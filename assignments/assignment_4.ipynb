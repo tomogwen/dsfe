{
 "cells": [
  {
   "cell_type": "markdown",
   "metadata": {},
   "source": [
    "# Assignment 4"
   ]
  },
  {
   "cell_type": "markdown",
   "metadata": {},
   "source": [
    "## Breaking down expressions"
   ]
  },
  {
   "cell_type": "markdown",
   "metadata": {},
   "source": [
    "The most important idea in Computer Science is that complicated, useful things\n",
    "can be built by putting together simple parts according to simple rules. Python\n",
    "code is an important example of this principle. Once you understand the basic\n",
    "rules, you can code with confidence. These exercises are designed to give you\n",
    "some practice with those rules.\n",
    "\n",
    "First, a brief review of sub-expressions.\n",
    "\n",
    "You can take any Python expression that has a value and combine it with other\n",
    "expressions. For example, you can combine two number-valued expressions by\n",
    "putting a + between them to add their values together. This forms a new, larger\n",
    "expression called a compound expression. The expressions that were combined\n",
    "together are called sub-expressions. Any smaller part of an expression, that is in itself an expression, is a sub-expression.\n",
    "\n",
    "You can tell if something is a sub-expression by checking whether it would make\n",
    "sense to write it in a line by itself. For example, in the expression 2 * 3, 2\n",
    "is a sub-expression, but 2 * isn't, because 2 * isn't a valid expression. (Try\n",
    "executing it!)"
   ]
  },
  {
   "cell_type": "markdown",
   "metadata": {},
   "source": [
    "**Question 1.** List all the sub-expressions of the following expression:\n",
    "\n",
    "`2 + 3`\n",
    "\n",
    "Put each sub-expression on its own line in the next cell.\n",
    "\n",
    "*Hint:* There are two of them."
   ]
  },
  {
   "cell_type": "code",
   "execution_count": null,
   "metadata": {},
   "outputs": [],
   "source": [
    "...\n",
    "..."
   ]
  },
  {
   "cell_type": "markdown",
   "metadata": {},
   "source": [
    "**Question 2.**  Expressions with variables.\n",
    "\n",
    "Let us say that I have defined two variables, like this:"
   ]
  },
  {
   "cell_type": "code",
   "execution_count": null,
   "metadata": {},
   "outputs": [],
   "source": [
    "a = 10\n",
    "b = 5"
   ]
  },
  {
   "cell_type": "markdown",
   "metadata": {},
   "source": [
    "Now list all the sub-expressions of the following expression:\n",
    "\n",
    "`a + b`\n",
    "\n",
    "Put each sub-expression on its own line in the next cell."
   ]
  },
  {
   "cell_type": "code",
   "execution_count": null,
   "metadata": {},
   "outputs": [],
   "source": [
    "...\n",
    "..."
   ]
  },
  {
   "cell_type": "markdown",
   "metadata": {},
   "source": [
    "**Question 3.**  List all the sub-expressions of the following expression:\n",
    "\n",
    "`(a + 3) / b`\n",
    "\n",
    "Here is a list of almost all the sub-expressions of that expression.  One is\n",
    "missing.\n",
    "\n",
    "1. `a`\n",
    "2. `3`\n",
    "3. `b`\n",
    "\n",
    "In the next cell, write the missing expression."
   ]
  },
  {
   "cell_type": "code",
   "execution_count": null,
   "metadata": {},
   "outputs": [],
   "source": [
    "..."
   ]
  },
  {
   "cell_type": "markdown",
   "metadata": {},
   "source": [
    "**Question 4.** Consider the following expression:\n",
    "\n",
    "`(1 + 2) * ((3 / 4) ** 5)`\n",
    "\n",
    "Here is a list of almost all the sub-expressions of that expression.  One is\n",
    "missing.\n",
    "\n",
    "1. `1`\n",
    "2. `2`\n",
    "3. `3`\n",
    "4. `4`\n",
    "5. `5`\n",
    "6. `(1 + 2)`\n",
    "7. `((3 / 4) ** 5)`\n",
    "\n",
    "In the next cell, write the missing expression."
   ]
  },
  {
   "cell_type": "code",
   "execution_count": null,
   "metadata": {},
   "outputs": [],
   "source": [
    "..."
   ]
  },
  {
   "cell_type": "markdown",
   "metadata": {},
   "source": [
    "**Question 5.** List all the sub-expressions of the following expression:\n",
    "\n",
    "`(((2 ** 3) / 4) / 5) - 6`\n",
    "\n",
    "Put each sub-expression on its own line in the next cell.\n",
    "\n",
    "*Hint* - there are eight of them."
   ]
  },
  {
   "cell_type": "code",
   "execution_count": null,
   "metadata": {},
   "outputs": [],
   "source": [
    "...\n",
    "...\n",
    "...\n",
    "...\n",
    "...\n",
    "...\n",
    "...\n",
    "..."
   ]
  },
  {
   "cell_type": "markdown",
   "metadata": {},
   "source": [
    "**Question 6.**.  Where are the variables now?\n",
    "\n",
    "Consider the following cell.  Execute it, to show the value of y."
   ]
  },
  {
   "cell_type": "code",
   "execution_count": null,
   "metadata": {},
   "outputs": [],
   "source": [
    "x = 10\n",
    "y = x * 3\n",
    "x = 100\n",
    "y"
   ]
  },
  {
   "cell_type": "markdown",
   "metadata": {},
   "source": [
    "Why is `y` equal to 30, and not 300?  Explain in the text cell below.\n",
    "(Remember, double-click the cell to edit it, and then press shift-enter when\n",
    "you're done.)"
   ]
  },
  {
   "cell_type": "markdown",
   "metadata": {},
   "source": [
    "*Write your answer here, replacing this text.*"
   ]
  },
  {
   "cell_type": "markdown",
   "metadata": {},
   "source": [
    "## Errors in Naming"
   ]
  },
  {
   "cell_type": "markdown",
   "metadata": {},
   "source": [
    "**Question 1.** When you run the following cell, Python will produce a\n",
    "slightly cryptic error message.  Explain in the text cell below, in your own\n",
    "words, what's wrong with the code."
   ]
  },
  {
   "cell_type": "code",
   "execution_count": null,
   "metadata": {},
   "outputs": [],
   "source": [
    "4 = 2 + 2"
   ]
  },
  {
   "cell_type": "markdown",
   "metadata": {},
   "source": [
    "*Write your answer here, replacing this text.*"
   ]
  },
  {
   "cell_type": "markdown",
   "metadata": {},
   "source": [
    "**Question 2**. When you run the following cell, Python will produce another\n",
    "slightly cryptic error message. Fix the error, and then explain below in your\n",
    "own words what was wrong with the code."
   ]
  },
  {
   "cell_type": "code",
   "execution_count": null,
   "metadata": {},
   "outputs": [],
   "source": [
    "two = 2\n",
    "four = two plus two"
   ]
  },
  {
   "cell_type": "markdown",
   "metadata": {},
   "source": [
    "*Write your answer here, replacing this text.*"
   ]
  }
 ],
 "metadata": {
  "jupytext": {
   "text_representation": {
    "extension": ".Rmd",
    "format_name": "rmarkdown",
    "format_version": "1.0",
    "jupytext_version": "0.8.1"
   }
  },
  "kernelspec": {
   "display_name": "Python 3",
   "language": "python",
   "name": "python3"
  },
  "language_info": {
   "codemirror_mode": {
    "name": "ipython",
    "version": 3
   },
   "file_extension": ".py",
   "mimetype": "text/x-python",
   "name": "python",
   "nbconvert_exporter": "python",
   "pygments_lexer": "ipython3",
   "version": "3.7.0"
  }
 },
 "nbformat": 4,
 "nbformat_minor": 2
}
